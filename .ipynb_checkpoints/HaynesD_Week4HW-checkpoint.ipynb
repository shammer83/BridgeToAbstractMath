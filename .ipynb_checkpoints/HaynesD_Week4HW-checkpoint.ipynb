{
 "cells": [
  {
   "cell_type": "markdown",
   "metadata": {},
   "source": [
    "$Derek\\:Haynes\\\\\n",
    "Module\\:4\\\\\n",
    "Bridge\\:to\\:Abstract\\:Math$"
   ]
  },
  {
   "cell_type": "markdown",
   "metadata": {},
   "source": [
    "### 2.1 "
   ]
  },
  {
   "cell_type": "markdown",
   "metadata": {},
   "source": [
    "#### 5.b. \n",
    "\n",
    "True or False \n",
    "\n",
    "$ \\{\\emptyset\\} \\subseteq  \\{ \\emptyset, \\{\\emptyset\\}\\}$\n",
    "\n",
    "Solution: `True`\n",
    "\n",
    "List all possible subsets  of ... $\\{ \\emptyset, \\{\\emptyset\\}\\}$\n",
    "\n",
    "$\\{ \\emptyset, \\{\\emptyset\\}\\ , \\{\\{\\emptyset\\}\\}, \\{\\emptyset, \\{\\emptyset\\}\\}\\}$\n",
    "\n",
    "it is obvious that $\\{\\emptyset\\}$ belongs to the above set\n"
   ]
  },
  {
   "cell_type": "markdown",
   "metadata": {},
   "source": [
    "#### 5.l\n",
    "\n",
    "$\\{\\{4\\}\\} \\subseteq \\{1, 2,3, \\{4\\}\\}$\n",
    "\n",
    "Solution: `True`\n",
    "\n",
    "Listing the first few elements in the powerset for $\\{1, 2,3, \\{4\\}\\}$\n",
    "\n",
    "$\\{\\emptyset, {1}, {2}, {3}, \\{\\{4\\}\\}, ...  \\}$\n",
    "\n",
    "it is obvious that $\\{\\{4\\}\\}$ is a subset of $\\{1, 2,3, \\{4\\}\\}$"
   ]
  },
  {
   "cell_type": "markdown",
   "metadata": {},
   "source": [
    "#### 8. \n",
    "Prove if $A \\subseteq B \\:and\\: B \\subseteq C,\\:then\\: A \\subseteq C.$"
   ]
  },
  {
   "cell_type": "markdown",
   "metadata": {},
   "source": [
    "Solution: \n",
    "\n",
    "Suppose $A \\subseteq B$\n",
    "\n",
    "then $\\forall x \\in A \\Rightarrow x \\in B$\n",
    "\n",
    "furthermore suppose $ B \\subseteq C$\n",
    "\n",
    "then $\\forall x \\in B \\Rightarrow x \\in C$ \n",
    "\n",
    "Since every element of A is contained by B and every element of B is contained by C \n",
    "\n",
    "it goes that A is contained by C \n",
    "\n",
    "hence,\n",
    "\n",
    "$ A \\subseteq C $\n"
   ]
  },
  {
   "cell_type": "markdown",
   "metadata": {},
   "source": [
    "#### 16.  \n",
    "\n",
    "List all the proper subsets for the following set $\\{\\emptyset, \\{\\emptyset \\}\\}$\n",
    "\n"
   ]
  },
  {
   "cell_type": "markdown",
   "metadata": {},
   "source": [
    "Solution: \n",
    "\n",
    "$\\{ \\emptyset, \\{\\emptyset\\}, \\{\\{\\emptyset\\}\\}, \\{\\emptyset, \\{\\emptyset \\}\\} \\}$"
   ]
  },
  {
   "cell_type": "markdown",
   "metadata": {},
   "source": [
    "### 2.2 "
   ]
  },
  {
   "cell_type": "markdown",
   "metadata": {},
   "source": [
    "#### 7.e\n",
    "\n",
    "Prove $A\\cap A=A$"
   ]
  },
  {
   "cell_type": "markdown",
   "metadata": {},
   "source": [
    "Solution:\n",
    "\n",
    "By part b of Theorem 2.2 ($A \\cap B \\subseteq A$)\n",
    "\n",
    "We assume $A \\cap A \\subseteq A$ \n",
    "\n",
    "then $x \\in A\\cap A$ and $x \\in A$ (definition of subset) \n",
    "\n",
    "which shows $A \\subseteq A\\cap A$ \n",
    "\n",
    "and when combined with $A \\cap A \\subseteq A$ from the beginning \n",
    "\n",
    "gives $A \\cap A = A$\n",
    "\n"
   ]
  },
  {
   "cell_type": "markdown",
   "metadata": {},
   "source": [
    "#### 7.o \n",
    "\n",
    "Prove $A \\subseteq B$ if and only if $A \\cup B = B$   "
   ]
  },
  {
   "cell_type": "markdown",
   "metadata": {},
   "source": [
    "Solution:\n",
    "\n",
    "i)Suppose that $A \\subseteq B$ \n",
    "\n",
    "then $\\forall x \\in A \\Rightarrow x \\in B$ \n",
    "\n",
    "which means all elements of A are in B by the definition of a union operator\n",
    "\n",
    "Therefore $A \\cup B = B$\n",
    "\n",
    "ii) Suppose $A \\cup B = B$ \n",
    "\n",
    "then $x \\in A$\n",
    "\n",
    "furthermore $x \\in A \\cup B$ \n",
    "\n",
    "and given that $A\\cup B = B$ then $x \\in B$ \n",
    "\n",
    "that is \n",
    "\n",
    "$x \\in A \\Rightarrow x \\in B$\n",
    "\n",
    "Therefore $A \\subseteq B$ \n",
    "\n",
    "Then $A \\subseteq B$ if and only if  $A \\cup B = B $"
   ]
  },
  {
   "cell_type": "markdown",
   "metadata": {},
   "source": [
    "#### 7.r \n",
    "\n",
    "Prove $A \\subseteq B \\:then\\: A \\cap C \\subseteq B \\cap C$"
   ]
  },
  {
   "cell_type": "markdown",
   "metadata": {},
   "source": [
    "Solution: \n",
    " \n",
    "Suppose $A \\subseteq B$\n",
    "\n",
    "Then $\\forall x \\in A \\Rightarrow x \\in B$\n",
    "\n",
    "And furthermore, Suppose $x \\in A \\cap C $\n",
    "\n",
    "Then $x \\in A$ and $x \\in C$ \n",
    "\n",
    "Then $x \\in B$ and $x \\in C$\n",
    "\n",
    "Then $x \\in B \\cap C$\n",
    "\n",
    "Therefore $x \\in A\\cap C \\Rightarrow x \\in B \\cap C$\n",
    "\n",
    "Therefore\n",
    "\n",
    "$A \\cap C \\subseteq B \\cap C$\n"
   ]
  },
  {
   "cell_type": "markdown",
   "metadata": {},
   "source": [
    "#### 8.f\n",
    "\n",
    "Prove the remaining parts of Theorem 2.2.2: \n",
    "\n",
    "Let U be the universe, and let A and B be subsets of U.  \n",
    "\n",
    "Prove $A \\cap B = \\emptyset$ iff $A \\subseteq B^c$ "
   ]
  },
  {
   "cell_type": "markdown",
   "metadata": {},
   "source": [
    "Solution: \n",
    "\n",
    "i) Suppose $A \\cap B  = \\emptyset$\n",
    "\n",
    "then $x \\in A$ \n",
    "\n",
    "and $x \\notin B$ \n",
    "\n",
    "$x \\in B^c$\n",
    "\n",
    "that is  $x \\in A \\Rightarrow x \\in B^c$ \n",
    "\n",
    "Therefore $A \\subset B^c$ "
   ]
  },
  {
   "cell_type": "markdown",
   "metadata": {},
   "source": [
    "ii) Suppose $A \\subseteq B^c$ \n",
    "\n",
    "Therefore $x \\in A \\Rightarrow x \\in B^c$\n",
    "\n",
    "$x \\notin B$\n",
    "\n",
    "that is \n",
    "\n",
    "$A \\cap B = \\emptyset$\n",
    "\n",
    "Therefore \n",
    "\n",
    "$A \\cap B = \\emptyset$ iff $A \\subseteq B^c$"
   ]
  },
  {
   "cell_type": "markdown",
   "metadata": {},
   "source": [
    "#### 8.h\n",
    "\n",
    "Prove $(A \\cap B)^c = A^c \\cup B^c$"
   ]
  },
  {
   "cell_type": "markdown",
   "metadata": {},
   "source": [
    "Solution: \n",
    "\n",
    "i) Suppose $ x \\in A^c \\cup B^c$\n",
    "\n",
    "then $x \\in A^c$ or $x \\in B^c$\n",
    "\n",
    "then $x \\notin A$ or $ x \\notin B$\n",
    "\n",
    "then $x \\notin A \\cup B$\n",
    "\n",
    "then $x \\in (A \\cap B)^c$\n",
    "\n",
    "\n",
    "\n"
   ]
  },
  {
   "cell_type": "markdown",
   "metadata": {},
   "source": [
    "ii) Suppose $ x \\in (A \\cap B)^C$ \n",
    "\n",
    "then $x \\notin A \\cap B$\n",
    "\n",
    "then $x \\notin A \\:or\\: x \\notin B$\n",
    "\n",
    "then $x \\in A^c \\:or\\: x \\in B^c$\n",
    "\n",
    "then $x \\in A^c \\cup B^c$\n",
    "\n",
    "Therefore, \n",
    "\n",
    "$(A \\cap B)^c = A^c \\cup B^c$"
   ]
  },
  {
   "cell_type": "markdown",
   "metadata": {},
   "source": [
    "9a. \n",
    "\n",
    "Let A, B and C bet sets. \n",
    "\n",
    "Prove that $A \\subseteq B$ if and only if $A - B = \\emptyset$\n"
   ]
  },
  {
   "cell_type": "markdown",
   "metadata": {},
   "source": [
    "i) Suppose $A \\subseteq B$ \n",
    "\n",
    "and further that $A - B \\neq \\emptyset$ \n",
    "\n",
    "then $x \\in A -B$ \n",
    "\n",
    "then $ x \\in A$ and $x \\notin B$\n",
    "\n",
    "This contradicts $A \\subseteq B$ (because $\\forall x \\in A \\Rightarrow x \\in B$)\n",
    "\n",
    "Therefore $A - B = \\emptyset$\n",
    "\n",
    "\n",
    "ii) Suppose that $A - B  = \\emptyset$\n",
    "\n",
    "then suppose that B does not contain A \n",
    "\n",
    "Then $\\exists x\\: P(x \\in A \\:and\\:  x \\notin B)$\n",
    "\n",
    "Then $x \\in A -B$ is a contradition to $A - B = \\emptyset$\n",
    "\n",
    "Therefore $A \\subseteq B$"
   ]
  },
  {
   "cell_type": "markdown",
   "metadata": {},
   "source": [
    "#### 10b. \n",
    "\n",
    "Let A, B, C and D be sets. \n",
    "\n",
    "Prove that $C \\subseteq A \\:and\\: D \\subseteq B \\:,then\\: C\\cup D \\subseteq A \\cup B$"
   ]
  },
  {
   "cell_type": "markdown",
   "metadata": {},
   "source": [
    "Solution: \n",
    "\n",
    "Suppose that $C \\subseteq A$ \n",
    "\n",
    "then $\\forall x\\in C \\Rightarrow x \\in A$ \n",
    "\n",
    "and suppose $D \\subseteq B$\n",
    "\n",
    "then $\\forall y\\in D \\Rightarrow y \\in B$ \n",
    "\n",
    "So \n",
    "\n",
    "$x,y \\in C \\cup D$ and $x,y \\in A \\cup B$ \n",
    "\n",
    "Therefore \n",
    "\n",
    "$C \\subseteq A \\:and\\: D \\subseteq B \\:,then\\: C\\cup D \\subseteq A \\cup B$\n"
   ]
  },
  {
   "cell_type": "markdown",
   "metadata": {},
   "source": [
    "#### 15c. \n",
    "\n",
    "$(A x B) \\cap (C x D) = (A \\cap C) x (B \\cap D)$"
   ]
  },
  {
   "cell_type": "markdown",
   "metadata": {},
   "source": [
    "Solution: \n",
    "\n",
    "$(a,b) \\in (A X B) \\cap (C x D) \\Leftrightarrow (a,b) \\in A x B \\:and\\: (a,b) \\in C x D$\n",
    "\n",
    "iff $( a \\in A and b \\in B)$ and $(a \\in C and b \\in D)$\n",
    "\n",
    "iff $a \\in A \\cap C$ and $b \\in B\\cap D$\n",
    "\n",
    "iff $(a,b) \\in (A \\cap C) x (B \\cap D)$\n",
    "\n",
    "Therefore... \n",
    "\n",
    "\n",
    "$(A x B) \\cap (C x D) = (A \\cap C) x (B \\cap D)$"
   ]
  },
  {
   "cell_type": "code",
   "execution_count": null,
   "metadata": {},
   "outputs": [],
   "source": []
  },
  {
   "cell_type": "code",
   "execution_count": null,
   "metadata": {},
   "outputs": [],
   "source": []
  }
 ],
 "metadata": {
  "kernelspec": {
   "display_name": "R",
   "language": "R",
   "name": "ir"
  },
  "language_info": {
   "codemirror_mode": "r",
   "file_extension": ".r",
   "mimetype": "text/x-r-source",
   "name": "R",
   "pygments_lexer": "r",
   "version": "3.6.1"
  }
 },
 "nbformat": 4,
 "nbformat_minor": 2
}
