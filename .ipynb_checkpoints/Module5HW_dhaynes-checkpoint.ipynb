{
 "cells": [
  {
   "cell_type": "markdown",
   "metadata": {},
   "source": [
    "$Derek\\:Haynes\\\\\n",
    "Module\\:5\\\\\n",
    "Bridge\\:to\\:Abstract\\:Math$"
   ]
  },
  {
   "cell_type": "markdown",
   "metadata": {},
   "source": [
    "#### 1.\n",
    "\n",
    "Find the intersection of each of the following families \n",
    "\n",
    "(j) $\\mathscr{M}= \\left\\{n\\mathbb{Z}:n\\in\\mathbb{N}\\right\\}$ , where $n\\mathbb{Z} =\\{\\dots,-3n,-2n,-n,0,n,2n,3n,\\dots\\} n Z$  for each $n\\in\\mathbb{N}$."
   ]
  },
  {
   "cell_type": "markdown",
   "metadata": {},
   "source": [
    "Solution:\n",
    "    \n",
    "$\\cap_{M \\in \\mathscr{M}} M = \\{ x : x \\in M\\:for\\:some\\:M \\in \\mathscr{M} \\}$\n",
    "\n",
    "The family =  $\\{ \\mathbb{Z}, 2\\mathbb{Z}, 3\\mathbb{Z},...\\}$\n",
    "\n",
    "Thus\n",
    "\n",
    "$\\cap_{M \\in \\mathscr{M}} M = \\emptyset$"
   ]
  },
  {
   "cell_type": "markdown",
   "metadata": {},
   "source": [
    " #### 3. \n",
    " \n",
    " Prove part (b) of Theorem 2.3.2: Let $\\mathscr{A}$  be a nonempty family of sets and let $B$ be a set.\n",
    " \n",
    " If $A\\subseteq B$for all $A\\in\\mathscr{A}$ , then $\\cup_{A\\in\\mathscr{A}}A\\subseteq B$."
   ]
  },
  {
   "cell_type": "markdown",
   "metadata": {},
   "source": [
    "Solution: \n",
    "\n",
    "Suppose $x \\in \\cup_{A\\in\\mathscr{A}}A$\n",
    "\n",
    "Then $x \\in A \\:for\\:some\\: A \\in \\mathscr{A}$. `defintion of Union`\n",
    "\n",
    "Suppose $A \\subseteq B \\:for\\:all A \\in \\mathscr{A}$\n",
    "\n",
    "Then \n",
    "\n",
    "$ x \\in B$\n",
    "\n",
    "proving\n",
    "\n",
    "$\\cup_{A\\in\\mathscr{A}}A\\subseteq B$"
   ]
  },
  {
   "cell_type": "markdown",
   "metadata": {},
   "source": [
    "#### 5.\n",
    "\n",
    "By Theorem 2.3.1, $\\cap_{A\\in\\mathscr{A}}A\\subseteq \\cup_{A\\in\\mathscr{A}}$ is true for every nonempty family of sets. Let the universe be $\\mathbb{R}$ , and let $\\mathscr{A}$  be the empty family of subsets of $\\mathbb{R}$ . Show that $\\cap_{A\\in\\mathscr{A}}A\\subseteq \\cup_{A\\in\\mathscr{A}}$ is false in this case by proving that\n",
    "\n",
    "(b) \n",
    "\n",
    "$\\cup_{A \\in \\mathscr{A}}A = \\emptyset$"
   ]
  },
  {
   "cell_type": "markdown",
   "metadata": {},
   "source": [
    "Solution: \n",
    "    \n",
    "Suppose if $x \\in A$ \n",
    "\n",
    "then \n",
    "\n",
    "$x \\in \\cup_{A\\in \\mathscr{A}}A$\n",
    "\n",
    "Thus $x \\:in\\: \\mathscr{A}$\n",
    "\n",
    "However, as stated,  the family $\\mathscr{A} = \\emptyset$\n",
    "\n",
    "meaning $A = \\emptyset$ and $x = \\emptyset$\n",
    "\n",
    "Therefore\n",
    "\n",
    "$\\cup_{A \\in \\mathscr{A}}A = \\emptyset$\n",
    "\n",
    "and \n",
    "\n",
    "$\\cap_{A \\in \\mathscr{A}}A$ is not a subset of $\\cup_{A \\in \\mathscr{A}}A$\n"
   ]
  },
  {
   "cell_type": "markdown",
   "metadata": {},
   "source": [
    "#### 17.\n",
    "\n",
    " Suppose $\\mathscr{A}=\\{A_i:i\\in\\mathbb{N} \\}$ is a family of sets such that for all $i$, $j\\in\\mathbb{N}$  , if $i \\le j$, then $A_j\\subseteq A_i$. (Such a family is called a nested family of sets.)\n",
    " \n",
    " prove that for every $k \\in \\mathbb{N},  \\cap_{i =1}^k A_i = A_k$"
   ]
  },
  {
   "cell_type": "markdown",
   "metadata": {},
   "source": [
    "Solution: \n",
    "\n",
    "$\\cap_{i = 1}^k A_i  = A_k$ iff $\\cap_{i = 1}^k A_i  \\subseteq A_k$ and $A_k \\subseteq \\cap_{i = 1}^k A_i$ \n",
    "\n",
    "then $x \\in \\cap_{i = 1}^k A_i \\:and\\: x \\in A_k$ therefore `definition of subset`\n",
    "\n",
    "$\\cap_{i = 1}^kA_i \\subseteq A_k$\n",
    "\n",
    "Suppose $x\\: \\in\\: A_k$, \n",
    "\n",
    "then since the family $\\{A_i : i \\in \\mathbb{N} \\}$ is decreasing, and $A_j \\subseteq A_i$,  means that $A_1, A_2,... A_{k-1} \\subseteq A_k$ `decreasing nested family`\n",
    "\n",
    "furthermore since $A_1, A_2,... A_{k-1} \\subseteq A_k$ \n",
    "\n",
    "then x is in $A_1, A_2, A_3, ..., A_k-1$\n",
    "\n",
    "then $x \\in \\cap_{i = 1}^k A_i$ \n",
    "\n",
    "\n",
    "Also,  if $x \\in A_k and x \\in \\cap_{i = 1}^k A_i$ then \n",
    "\n",
    "$A_k \\subseteq \\cap_{i=1}^k A_i$\n",
    "\n",
    "Then by \n",
    "\n",
    "$\\cap_{i = 1}^k A_i  \\subseteq A_k$ and $A_k \\subseteq \\cap_{i = 1}^k A_i$ \n",
    "\n",
    "\n",
    "proving \n",
    "\n",
    "\n",
    " $\\cap_{i =1}^k A_i = A_k$"
   ]
  },
  {
   "cell_type": "code",
   "execution_count": null,
   "metadata": {},
   "outputs": [],
   "source": []
  },
  {
   "cell_type": "markdown",
   "metadata": {},
   "source": [
    "### Section 2.4 \n",
    "\n",
    "#### 4.  \n",
    "\n",
    "Use the PMI to prove the following for all natural numbers $n$. \n",
    "\n",
    "##### (c) \n",
    "\n",
    "$\\Sigma_{i=1}^n 2^i = 2^{n+1} - 2$\n",
    "\n",
    "Solution:\n",
    "\n",
    "\n",
    "i) basic step:  show the equation is true for $n = 1$\n",
    "\n",
    "$2^1 = 2^{1+1} -2$ \n",
    "\n",
    "So for $n =1$ this is true. \n",
    "\n",
    "ii) Inductive step:  prove that $2^{n+1} = 2^{[n+1]+1}-2$\n",
    "\n",
    "`For the left hand side`\n",
    "\n",
    "$2^{n+1} = 2^n \\cdot 2^1 $\n",
    "\n",
    "`For the right hand side`\n",
    "\n",
    "$2^{[n+1]+1}-2 = 2^n \\cdot 2^1 - 2$\n",
    "\n",
    "$ = 2^n \\cdot 2^1$\n",
    "\n",
    "Since The $LHS = RHS$, the property holds true for $n+1$\n",
    "\n",
    "By the PMI,  the $\\Sigma_{i=1}^n 2^i = 2^{n+1} - 2$ is true for all $n \\in \\mathbb{N}$"
   ]
  },
  {
   "cell_type": "markdown",
   "metadata": {},
   "source": [
    "##### (i) \n",
    "\n",
    "$\\Sigma_{i = 1}^n = \\frac{1}{(2i -1)(2i+1)} = \\frac{n}{2n+1}$"
   ]
  },
  {
   "cell_type": "markdown",
   "metadata": {},
   "source": [
    "Solution:\n",
    "\n",
    "i) basic step: show the equation is true for $𝑛=1$\n",
    "\n",
    "`For the LHS`\n",
    "\n",
    "$\\frac{1}{(2(1) -1)(2(1)+1)} = \\frac{1}{3}$ \n",
    "\n",
    "`For the RHS`\n",
    "\n",
    "$\\frac{1}{2(1)+1} = \\frac{1}{3}$\n",
    "\n",
    "So for $n = 1$ this is true. \n",
    "\n",
    "ii) Inductive step,  prove that $\\Sigma_{i =1}^{n+1}\\frac{1}{(2i-1)(2i+1)} = \\frac{n+1}{2(n+1)+1}$\n",
    "\n",
    "`LHS`\n",
    "\n",
    "$\\Sigma_{i =1}^{n+1}\\frac{1}{(2i-1)(2i+1)} = \\Sigma_{i =1}^{n}\\frac{1}{(2i-1)(2i+1)} + \\frac{1}{(2(n+1)-1)(2(n+1)+1)}$\n",
    "\n",
    "from part $i$ we know \n",
    "\n",
    "$\\frac{1}{(2i -1)(2i+1)} = \\frac{n}{2n+1}$\n",
    "\n",
    "therefore \n",
    "\n",
    "$LHS = \\frac{n}{2n+1} + \\frac{1}{(2(n+1)-1)(2(n+1)+1)}$\n",
    "\n",
    "$=\\frac{1}{2n+1}(n+ \\frac{1}{2n+3})$\n"
   ]
  },
  {
   "cell_type": "markdown",
   "metadata": {},
   "source": [
    "##### $ =\\frac{1}{2n+1}(\\frac{n(2n+3)+1}{2n+3})$\n",
    "\n",
    "$ = \\frac{2n^2 + 3n +1}{(2n+1)(2n+3)}$\n",
    "\n",
    "$ = \\frac{(2n+1)(n+1)}{(2n+1)(2n+3)}$\n",
    "\n",
    "$ = \\frac{n+1}{2n+3}$\n",
    "\n",
    "$ = \\frac{n+1}{2(n+1)+1}$\n",
    "\n",
    "since the LHS = RHS, the statement is true for n+1. \n",
    "\n",
    "By the PMI,  the $\\Sigma_{i = 1}^n = \\frac{1}{(2i -1)(2i+1)} = \\frac{n}{2n+1}$ is true for all $n \\in \\mathbb{N}$\n"
   ]
  },
  {
   "cell_type": "markdown",
   "metadata": {},
   "source": [
    "#### 5. \n",
    "\n",
    "Use the PMI to prove the following for all natural numbers\n",
    "\n",
    "##### (b)\n",
    "\n",
    "$4^n -1$ is divisible by 3. \n",
    "\n"
   ]
  },
  {
   "cell_type": "markdown",
   "metadata": {},
   "source": [
    "Solution: \n",
    "    \n",
    "i) the basic step:  show the statement is true for n =1\n",
    "\n",
    "$4^1 - 1 = 3$.  \n",
    "\n",
    "ii) the induction step: show that $4^{n+1}-1$ is a multiple of $3$\n",
    "\n",
    "or $4^{n+1}-1 = 3k$ where k is some natural number\n",
    "\n",
    "`LHS`\n",
    "\n",
    "$ 4^{n+1} -1 = 4(4^n) -1$\n",
    "\n",
    "$ = 4(4^n - 1 +1) -1 $\n",
    "\n",
    "$ = 4(4^n - 1) + (4-1)$\n",
    "\n",
    "$ = 4(4^n -1) +3$\n",
    "\n",
    "thus the statement is true for $n+1$.  By the PMI, $4^n -1$ is divisible by 3 for all $n \\in \\mathbb{N}$\n",
    "\n"
   ]
  },
  {
   "cell_type": "markdown",
   "metadata": {},
   "source": [
    "##### 6. \n",
    "\n",
    "Use the Generalized PMI to prove the following:\n",
    "\n",
    "##### (g) \n",
    "\n",
    "$\\prod_{i=2}^n\\frac{i^2-1}{i^2}=\\frac{n+1}{2n}$ for all $n\\ge 2$."
   ]
  },
  {
   "cell_type": "markdown",
   "metadata": {},
   "source": [
    "Solution: \n",
    "    \n",
    "i) $k \\in S$ Check for $n = 2$\n",
    "\n",
    "$\\frac{i^2 -1}{i^2} = \\frac{n+1}{2n}$\n",
    "\n",
    "$\\frac{2^2 - 1}{2^2} = \\frac{2+1}{2(2)}$\n",
    "\n",
    "$\\frac{3}{4} = \\frac{3}{4}$\n",
    "\n",
    "\n",
    "ii) for all $ n \\in \\mathbb{N}, n \\ge k, if\\: n \\in S,\\:then\\: n+1 \\in S$.  \n",
    "\n",
    "$\\prod_{i=2}^{k+1}\\frac{i^2-1}{i^2}$\n",
    "\n",
    "$ =\\Bigg[ \\prod_{i=2}^k (\\frac{i^2-1}{i^2})\\Bigg] (\\frac{(k+1^2) -1}{(k+1)^2})$ `splitting off the last factor`"
   ]
  },
  {
   "cell_type": "markdown",
   "metadata": {},
   "source": [
    "$= (\\frac{k+1}{2k}) (\\frac{(k+1^2) -1}{(k+1)^2})$ `By induction hypothesis`"
   ]
  },
  {
   "cell_type": "markdown",
   "metadata": {},
   "source": [
    "$=\\frac{k^2 + 2k}{2k(k+1)}$\n",
    "\n",
    "$=\\frac{k+2}{2(k+1)}$\n",
    "\n",
    "Thus \n",
    "\n",
    "$n = k+1$"
   ]
  },
  {
   "cell_type": "markdown",
   "metadata": {},
   "source": [
    "#### 10. \n",
    "\n",
    "A puzzle called the Tower of Hanoi consists of a board with three pegs and several disks of differing diameters that fit over the pegs. In the staring position, all the disks are placed on one peg, with largest at the bottom, and the other with smaller and smaller diameter up to the top disk. A mover is made by lifting the top disk off a peg and placing it on another peg so that there is no smaller disk beneath it. The object of the puzzle is to transfer all the disks form one peg to another. \n",
    "\n",
    "With a little practice, perhaps using coins of various sizes, you should convince yourself that if there are three disks, the puzzle can be solved in 7 moves. With four disks, 15 moves are required. Use the PMI to prove that with $n$ disks, the puzzle can be solved in $2^n-1$ moves. (Hint: In the inductive step, you must describe the movers with $n+1$disks and use the hypothesis of induction to count them.)\n"
   ]
  },
  {
   "cell_type": "markdown",
   "metadata": {},
   "source": [
    "Solution: \n",
    "    \n",
    "Suppose it is true that with $n$ disks the puzzle can be solved with $2^n -1$ moves.\n",
    "    \n",
    "Furthermore... \n",
    "\n",
    "Suppose we add one more disk to the n disk, then the first n disks need to move on the 2nd peg wich takes $2^n-1$ moves,  now move the (n+1)th disks to the 3rd peg, again moving back n disk on top of the (n+1)th disk will take $2^n -1$ moves,  therefore the total moves to solve the puzzle for (n+1) is :\n",
    "\n",
    "$(2^n -1)+1+1(2^n-1) = 2^{n+1} -1$\n",
    "\n",
    "therefore the statement is true for n+1 and by PMI the statement is true for all n. \n"
   ]
  },
  {
   "cell_type": "code",
   "execution_count": null,
   "metadata": {},
   "outputs": [],
   "source": []
  }
 ],
 "metadata": {
  "kernelspec": {
   "display_name": "Python 3",
   "language": "python",
   "name": "python3"
  },
  "language_info": {
   "codemirror_mode": {
    "name": "ipython",
    "version": 3
   },
   "file_extension": ".py",
   "mimetype": "text/x-python",
   "name": "python",
   "nbconvert_exporter": "python",
   "pygments_lexer": "ipython3",
   "version": "3.7.3"
  }
 },
 "nbformat": 4,
 "nbformat_minor": 4
}
