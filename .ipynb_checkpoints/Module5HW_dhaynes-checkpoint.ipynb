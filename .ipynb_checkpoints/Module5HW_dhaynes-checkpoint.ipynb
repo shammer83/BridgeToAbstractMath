{
 "cells": [
  {
   "cell_type": "markdown",
   "metadata": {},
   "source": [
    "$Derek\\:Haynes\\\\\n",
    "Module\\:5\\\\\n",
    "Bridge\\:to\\:Abstract\\:Math$"
   ]
  },
  {
   "cell_type": "markdown",
   "metadata": {},
   "source": [
    "#### 1.\n",
    "\n",
    "Find the intersection of each of the following families \n",
    "\n",
    "(j) $\\mathscr{M}= \\left\\{n\\mathbb{Z}:n\\in\\mathbb{N}\\right\\}$ , where $n\\mathbb{Z} =\\{\\dots,-3n,-2n,-n,0,n,2n,3n,\\dots\\} n Z$  for each $n\\in\\mathbb{N}$."
   ]
  },
  {
   "cell_type": "markdown",
   "metadata": {},
   "source": [
    "Solution:\n",
    "    \n",
    "$\\cap_{M \\in \\mathscr{M}} M = \\{ x : x \\in M\\:for\\:some\\:M \\in \\mathscr{M} \\}$\n",
    "\n",
    "The family =  $\\{ \\mathbb{Z}, 2\\mathbb{Z}, 3\\mathbb{Z},...\\}$\n",
    "\n",
    "Thus\n",
    "\n",
    "$\\cap_{M \\in \\mathscr{M}} M = \\emptyset$"
   ]
  },
  {
   "cell_type": "markdown",
   "metadata": {},
   "source": [
    " #### 3. \n",
    " \n",
    " Prove part (b) of Theorem 2.3.2: Let $\\mathscr{A}$  be a nonempty family of sets and let $B$ be a set.\n",
    " \n",
    " If $A\\subseteq B$for all $A\\in\\mathscr{A}$ , then $\\cup_{A\\in\\mathscr{A}}A\\subseteq B$."
   ]
  },
  {
   "cell_type": "markdown",
   "metadata": {},
   "source": [
    "Solution: \n",
    "\n",
    "Suppose $x \\in \\cup_{A\\in\\mathscr{A}}A$\n",
    "\n",
    "Then $x \\in A \\:for\\:some\\: A \\in \\mathscr{A}$. `defintion of Union`\n",
    "\n",
    "Suppose $A \\subseteq B \\:for\\:all A \\in \\mathscr{A}$\n",
    "\n",
    "Then \n",
    "\n",
    "$ x \\in B$\n",
    "\n",
    "proving\n",
    "\n",
    "$\\cup_{A\\in\\mathscr{A}}A\\subseteq B$"
   ]
  },
  {
   "cell_type": "markdown",
   "metadata": {},
   "source": [
    "#### 17.\n",
    "\n",
    " Suppose $\\mathscr{A}=\\{A_i:i\\in\\mathbb{N} \\}$ is a family of sets such that for all $i$, $j\\in\\mathbb{N}$  , if $i \\le j$, then $A_j\\subseteq A_i$. (Such a family is called a nested family of sets.)\n",
    " \n",
    " prove that for every $k \\in \\mathbb{N},  \\cap_{i =1}^k A_i = A_k$"
   ]
  },
  {
   "cell_type": "code",
   "execution_count": null,
   "metadata": {},
   "outputs": [],
   "source": []
  }
 ],
 "metadata": {
  "kernelspec": {
   "display_name": "Python 3",
   "language": "python",
   "name": "python3"
  },
  "language_info": {
   "codemirror_mode": {
    "name": "ipython",
    "version": 3
   },
   "file_extension": ".py",
   "mimetype": "text/x-python",
   "name": "python",
   "nbconvert_exporter": "python",
   "pygments_lexer": "ipython3",
   "version": "3.7.6"
  }
 },
 "nbformat": 4,
 "nbformat_minor": 4
}
