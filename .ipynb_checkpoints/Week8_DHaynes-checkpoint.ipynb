{
 "cells": [
  {
   "cell_type": "markdown",
   "metadata": {},
   "source": [
    "$Derek\\:Haynes\\\\\n",
    "Bridge\\:To\\:Abstract\\:Math\\\\\n",
    "Week\\:8$\n"
   ]
  },
  {
   "cell_type": "markdown",
   "metadata": {},
   "source": [
    "### 11 \n",
    "\n",
    "(b) Let $R$ be a relation from $A\\:to\\:B$ and $S$ be a relation from $B\\:to\\: C$. \n",
    "\n",
    "Prove that D$om(S \\circ R) \\subseteq Dom(R)$"
   ]
  },
  {
   "cell_type": "markdown",
   "metadata": {},
   "source": [
    "Solution: \n",
    "\n",
    "$S\\circ R = \\{(a,c)\\: :\\:there\\:exists\\: b \\in B\\: such \\:that (a,b) \\in R \\:and\\: (b,c) \\in S\\}$\n",
    "\n",
    "then \n",
    "\n",
    "$Dom(S \\circ R) = \\{a \\in A : ( a, b) \\in R \\: for\\:some\\: b\\in B\\}$\n",
    "\n",
    "And \n",
    "\n",
    "$Dom(R) = \\{a \\in A: (a,b) \\in R \\: for\\: some\\: b\\in B\\}$\n",
    "\n",
    "then if $x \\in Dom(S\\circ R)$ then $ x \\in Dom(R)$\n",
    "\n",
    "then by the definition of subsets\n",
    "\n",
    "$Dom(S\\circ R) \\subseteq Dom(R)$. "
   ]
  },
  {
   "cell_type": "markdown",
   "metadata": {},
   "source": [
    "### 12. \n",
    "\n",
    "Complete the proof of Theorem 3.1.2 by proving that if R is a relation from A to B and S is a relation from B to C, then :$\n",
    "\n",
    "(b) $R\\circ I_A=R$"
   ]
  },
  {
   "cell_type": "markdown",
   "metadata": {},
   "source": [
    "Solution: \n",
    "\n",
    "Suppose \n",
    "\n",
    "$a \\in A$ and $b \\in B$\n",
    "\n",
    "Let R be the relations from A to B and $I_A$ is the identity relation on the set A. \n",
    "\n",
    "Then \n",
    "\n",
    "$R = \\{(a,b): a \\in A \\:and\\: b \\in B)\\}$\n",
    "\n",
    "$I_A = \\{(a,a): a \\in A\\}$\n",
    "\n",
    "$R \\circ I_A = \\{ (a,b): \\:there\\: exists\\: an\\: a \\in A \\:such \\:that\\: (a, a) \\in I_A, and (a,b)\\in R\\}$\n",
    "\n",
    "Since R is a relation from $A to B \n",
    "\n",
    "this is true for ever $(a,b) \\in R$\n",
    "\n",
    "Therefore, \n",
    "\n",
    "$R \\circ I_A = R$\n"
   ]
  },
  {
   "cell_type": "markdown",
   "metadata": {},
   "source": [
    "(c) $(S\\circ R)^{-1}=R^{-1}\\circ S^{-1}$"
   ]
  },
  {
   "cell_type": "markdown",
   "metadata": {},
   "source": [
    "Let R be the relations from A to B and S is the relation on the set B to C. \n",
    "\n",
    "Then \n",
    "\n",
    "$R = \\{(a,b): a \\in A \\:and\\: b \\in B)\\}$\n",
    "\n",
    "$S = \\{(b,c): b \\in B \\:and\\: c \\in C)\\}$\n",
    "\n",
    "Then the composite of R and S is, \n",
    "\n",
    "$S \\circ R = \\{ (a,c):\\:there \\:exists\\: b \\in B \\:such\\: that\\: (a,b) \\in R \\:and\\: (b,c) \\in S\\}$\n",
    "\n",
    "Then\n",
    "\n",
    "$(S \\circ R)^{-1} = \\{(c,a): (a,c) \\in S \\circ R\\}$\n",
    "\n",
    "furthermore\n",
    "\n",
    "$R^{-1}= \\{(b,a): (a,b) \\in R \\}$\n",
    "\n",
    "$S^{-1} = \\{(c,b): (a,c) \\in R \\}$\n",
    "\n",
    "Then the composite relation $R^{-1}$ and $S^{-1}$ is, \n",
    "\n",
    "$R^{-1} \\circ S^{-1} = \\{(c,a): \\:there\\: \\:exists\\: b \\in B \\:such\\: that\\: (c,b) \\in S^{-1} \\:and\\: (b,a) \\in R^{-1}\\}$\n",
    "\n",
    "So \n",
    "\n",
    "$(S\\circ R)^{-1}=R^{-1}\\circ S^{-1}$"
   ]
  },
  {
   "cell_type": "markdown",
   "metadata": {},
   "source": [
    "## Section 3.2 Equivalence Relation\n",
    "\n",
    "#### 11. \n",
    "\n",
    "Indicate which of the following releations on the given sets are reflexive, which are symmetric, and which are transitive. \n",
    "\n",
    "(h) $\\{(x,y) \\in \\mathbb{Z} \\times \\mathbb{Z} : x + y = 10\\} $"
   ]
  },
  {
   "cell_type": "markdown",
   "metadata": {},
   "source": [
    "Solution:  \n",
    "\n",
    "The given relationship is not reflexive because $7+7 \\neq 10$\n",
    "\n",
    "The relationship is symmetric because $(\\forall_{x,y} \\in \\mathbb{Z}) (x+y = 10 \\Rightarrow y+x = 10)$. \n",
    "\n",
    "The relationship is not transitive because $(3+7 = 10 \\wedge 7+3 = 10)$,  but $3+3 \\neq 10$"
   ]
  },
  {
   "cell_type": "markdown",
   "metadata": {},
   "source": [
    "#### 4. \n",
    "\n",
    "The properties of reflexivity, symmetry, and transitivity are related to the identity relation and the opertions of inversion and composition.  Prove that :\n",
    "\n",
    "(c) R is transitive if and only iff $R \\circ R \\subseteq R$. \n"
   ]
  },
  {
   "cell_type": "markdown",
   "metadata": {},
   "source": [
    "Suppose R is transitive\n",
    "\n",
    "Then that is equivalent to saying \n",
    "\n",
    "($x,y)$ \\in R and $(y, z) \\in R$ therefore $(x,z) \\in R$\n",
    "\n",
    "Then \n",
    "\n",
    "$R \\circ R = \\{(x,z): there \\:exists\\: an\\: \n",
    "(x,y) \\in R \\:and\\: (y,z) \\in R \\}$\n",
    "\n",
    "and by the property of transitivity, $(x,z) \\in R$\n",
    "\n",
    "That is for each\n",
    "\n",
    "$(x,z) \\in R \\circ R \\Rightarrow \\in R$\n",
    "\n",
    "Therefore\n",
    "\n",
    "$R\\circ R \\subseteq R$"
   ]
  },
  {
   "cell_type": "markdown",
   "metadata": {},
   "source": [
    "#### 6. \n",
    "\n",
    "For each of the following, prove that the relation is an equivalence relation. Then give infomration aboout the equivalence classes as specified. \n",
    "\n",
    "a)The relations ${S}$ on $\\mathscr{R}$ given by $xSy$ iff  $x-y \\in \\mathscr{Q}$\n",
    "\n",
    "i) Check if the relation is reflexive:\n",
    "\n",
    "$(\\forall x \\in R)(x-x = 0 \\in \\mathbb{Q} \\Leftrightarrow x\\mathbb{S}x)$\n",
    "\n",
    "Check if the relation is symmetric: \n",
    "\n",
    "$(\\forall x,y \\in R) (xSy \\Leftrightarrow x-y \\in \\mathbb{Q} \\Leftrightarrow y-x \\in \\mathbb{Q} \\Leftrightarrow ySx)$\n",
    "\n",
    "Check if the relation is transitive:\n",
    "\n",
    "$(\\forall x, y, z \\in \\mathbb{R})((xSy \\wedge ySz) \\Leftrightarrow (x-z = (x-y)-(z-y) \\in \\mathbb{Q} \\Leftrightarrow (xSz))$\n",
    "\n",
    "Since the relationship is reflexive, symmetric, and transitive"
   ]
  },
  {
   "cell_type": "markdown",
   "metadata": {},
   "source": [
    "#### 8b \n",
    "\n",
    "Does the following digraph represent a relation that is (iii) transitive on the given set? "
   ]
  },
  {
   "cell_type": "markdown",
   "metadata": {},
   "source": [
    "![alt text](8b.png)"
   ]
  },
  {
   "cell_type": "markdown",
   "metadata": {},
   "source": [
    "Solution: \n",
    "\n",
    "The relationship is not transitive on the Set because $xRy$, and $yRz$, but $x\\not Rz$\n",
    "\n",
    "or $1R2$, and $2R3$, but $1\\not R3$\n"
   ]
  },
  {
   "cell_type": "markdown",
   "metadata": {},
   "source": [
    "#### 9.\n",
    "\n",
    "Determine the equivalence class for the relation: \n",
    "\n",
    "b) Congruence Modulo 8"
   ]
  },
  {
   "cell_type": "markdown",
   "metadata": {},
   "source": [
    "Solution: \n",
    "\n",
    "$\\bar{0} = \\{x : x = 0(mod\\:8)\\}$ \n",
    "\n",
    "$= \\{x: 8\\:divides\\:(x-0)\\}$\n",
    "\n",
    "$\\bar{0} = \\{...,24, -16, -8, 0, 8, 16, 24 ...\\}$\n",
    "\n",
    "Continuing this to \n",
    "\n",
    "$\\bar{1} = \\{x : x = 1(mod\\:8)\\}$ \n",
    "\n",
    "$= \\{x: 8\\:divides\\:(x-1)\\}$\n",
    "\n",
    "$= \\{8x+1: x \\in \\mathbb{Z}\\}$ $\n",
    "\n",
    "$\\bar{1} = \\{..., -31, -23, -15, -7, 1, 9, 17, 25 ...\\}$\n",
    "\n",
    "$\\vdots$\n",
    "\n",
    "$\\bar{2} = \\{..., -30, -22, -14, -6, 2, 10, 18, 26 ...\\}$\n",
    "\n",
    "$\\bar{3} = \\{..., -29, -21, -13, -5, 3, 11, 19, 27 ...\\}$\n",
    "\n",
    "$\\bar{4} = \\{..., -28, -20, -12, -4, 4, 12, 20, 28 ...\\}$\n",
    "\n",
    "$\\bar{5} = \\{..., -27, -19, -11, -3, 5, 13, 21, 29 ...\\}$\n",
    "\n",
    "$\\bar{6} = \\{..., -26, -18, -10, -2, 6, 14, 22, 30 ...\\}$\n",
    "\n",
    "$\\bar{7} = \\{..., -25, -17, -9, -1, 7, 15, 23, 31, ...\\}$"
   ]
  },
  {
   "cell_type": "code",
   "execution_count": null,
   "metadata": {},
   "outputs": [],
   "source": []
  }
 ],
 "metadata": {
  "kernelspec": {
   "display_name": "R",
   "language": "R",
   "name": "ir"
  },
  "language_info": {
   "codemirror_mode": "r",
   "file_extension": ".r",
   "mimetype": "text/x-r-source",
   "name": "R",
   "pygments_lexer": "r",
   "version": "3.6.1"
  }
 },
 "nbformat": 4,
 "nbformat_minor": 2
}
