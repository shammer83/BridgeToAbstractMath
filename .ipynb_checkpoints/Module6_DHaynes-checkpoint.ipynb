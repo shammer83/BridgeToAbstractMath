{
 "cells": [
  {
   "cell_type": "markdown",
   "metadata": {},
   "source": [
    "$Derek\\:Haynes\\\\\n",
    "Bridge\\:to\\:Abstract\\:Math\\\\\n",
    "Module\\:6$"
   ]
  },
  {
   "cell_type": "markdown",
   "metadata": {},
   "source": [
    "#### 1. (c)\n",
    "\n",
    "Every natural number greater than 33 can be written in the form $4s+5t$, where $s$ and $t$ are integers, $s\\ge3$ and $t\\ge2$"
   ]
  },
  {
   "cell_type": "markdown",
   "metadata": {},
   "source": [
    "Solution: \n",
    "\n",
    "Suppose $S = \\{n \\in \\mathbb{N}: n > 33 \\:and\\: n = 4s +5t, \\:for\\:some\\:integers\\: s\\ge 3 \\: and\\: t\\ge 2\\}$"
   ]
  },
  {
   "cell_type": "markdown",
   "metadata": {},
   "source": [
    "Base case: \n",
    "\n",
    "$34 = 4(6) + 5(2)$ \n",
    "\n",
    "$35 = 4(5) + 5(3)$\n",
    "\n",
    "$36 = 4(4) + 5(4)$ \n",
    "\n",
    "Thus $34, 35, 36, \\in S$\n",
    "\n",
    "and the base case holds true. \n",
    "\n",
    "Induction hypothesis:\n",
    "\n",
    "Assume  $m > 33$ \n",
    "\n",
    "and that $ k \\in \\{34, 35, ...,, m-1\\}$, $k \\in S$ \n",
    "\n",
    "If $m = 34, 35, 36$ then clearly $m \\in S$ otherwise  $m \\ge 37$\n",
    "\n",
    "and so $m - 3 \\ge 34$  \n",
    "\n",
    "Therefore $m-3 \\in S$.   `By the induction hypothesis`\n",
    "\n",
    "So, $m -3 = 4s + 5t$, for some integers $s$ and $t$, where $s \\ge 3$ and $t \\ge 2$ \n",
    "\n",
    "Therefore by PCI, Every natural number greater than 33 can be written in the form $4s+5t$, where $s$ and $t$ are integers, $s\\ge3$ and $t\\ge2$ is true for all $n \\in \\mathbb{N}$ such that $n > 33$."
   ]
  },
  {
   "cell_type": "markdown",
   "metadata": {},
   "source": [
    "#### 3.\n",
    "\n",
    "Let $a_1=2,\\:a_2=4$ and $a_{n+2} = 5a_{n+1}-6a_n$ for all $n\\ge1$ . Prove that $a_n=2^n$ for all natural numbers $n$ ."
   ]
  },
  {
   "cell_type": "markdown",
   "metadata": {},
   "source": [
    "Solution: \n",
    "\n",
    "Base case:\n",
    "\n",
    "$a_1 = 2^1$\n",
    "\n",
    "$a_2 = 2^2$\n",
    "\n",
    "Suppose that $a_k = 2^k$ , for $n = k, k+1$ \n",
    "\n",
    "then for $n = k+2$\n",
    "\n",
    "$a_{k+2} = 5a_{k+1} - 6a_k$\n",
    "\n",
    "$= 5(2^{k+1}) - 6(2^k)$ \n",
    "\n",
    "$= 10 \\cdot 2^{k+1} - 5 \\cdot 2^{k}$\n",
    "\n",
    "Furthermore, \n",
    "\n",
    "$a_{k+2} = 10 \\cdot^2k - 6 \\cdot 2^k $\n",
    "\n",
    "$= 4 \\cdot 2^k$\n",
    "\n",
    "$= 2^2 \\cdot 2^k$ \n",
    "\n",
    "$= 2^{k+2}$\n",
    "\n",
    "Therefore by PCI,  the above statement is true.\n"
   ]
  },
  {
   "cell_type": "markdown",
   "metadata": {},
   "source": [
    "#### 5 b) \n",
    "\n",
    "Calculate the first 10 Fibonaci numbers $f_1, f_2, ..., f_{10}$\n"
   ]
  },
  {
   "cell_type": "markdown",
   "metadata": {},
   "source": [
    "Solution:\n",
    "\n",
    "$f_1 = 1$ \n",
    "\n",
    "$f_2 = 1$\n",
    "\n",
    "$f_3 = f_2 + f_1 = 2$\n",
    "\n",
    "$f_4 = f_3+f_2 =3 $\n",
    "\n",
    "$f_5 = f_4 + f_3 = 5$\n",
    "\n",
    "$f_6 = f_5 + f_4 = 8$\n",
    "\n",
    "$f_7 = f_6 + f_5 = 13$\n",
    "\n",
    "$f_8 = f_7 + f_6 = 21$\n",
    "\n",
    "$f_9 = f_8 + f_7 = 34$\n",
    "\n",
    "$f_{10} = f_9 + f_8 = 55$"
   ]
  },
  {
   "cell_type": "markdown",
   "metadata": {},
   "source": [
    "#### 7 (d). \n",
    "\n",
    "Use the PCI to prove the following properties of Fibonancci numbers: \n",
    "\n",
    "(Binet's formula)  $\\phi$ be the positive solution and $rho$ be the negative solution to the equation $x^2=x+1$. (The values are $\\phi=\\frac{1+\\sqrt{5}}{2}$ and $\\rho=\\frac{1-\\sqrt{5}}{2}$) Show for all natural numbers $n$ that $f_n=\\frac{\\phi^n-\\rho^n}{\\phi-\\rho}$ "
   ]
  },
  {
   "cell_type": "markdown",
   "metadata": {},
   "source": [
    "Solution: \n",
    "\n",
    "Base case for P(n) where n = 1, 2: \n",
    "\n",
    "\n",
    "$f_1 = \\frac{\\phi^1 - \\rho^1}{\\phi - \\rho}$\n",
    "\n",
    "= 1\n",
    "\n",
    "$f_2 = \\frac{\\phi^2 - \\rho^2}{\\phi - \\rho}$\n",
    "\n",
    "$ = \\phi + \\rho$\n",
    "\n",
    "$ = \\frac{1+\\sqrt5}{2} + \\frac{1-\\sqrt5}{2} $\n",
    "\n",
    "$ = 1$"
   ]
  },
  {
   "cell_type": "markdown",
   "metadata": {},
   "source": [
    "Consider $S$ to be a set of natural numbers for which the statment P(k) is true.   With that being said, P(k+1) is true. \n",
    "\n",
    "$F_{k+1} = F_k + F_{k-1}$\n",
    "\n",
    "$= \\frac{\\phi^{k} - \\rho^{k}}{\\phi - \\rho} + \\frac{\\phi^{k-1} - \\rho^{k-1}}{\\phi - \\rho}$\n",
    "\n",
    "$= \\frac{(\\phi^{k} + \\phi^{k-1}) - (\\rho^k + \\rho^{k-1})}{\\phi - \\rho}$\n",
    "\n",
    "$= \\frac{\\phi^k-\\rho^k}{\\phi-\\rho}$\n",
    "\n",
    "thus, k belongs to S and by PCI, $\\frac{\\phi^n-\\rho^n}{\\phi-\\rho}$ for all natural numbers of n. "
   ]
  },
  {
   "cell_type": "markdown",
   "metadata": {},
   "source": [
    "#### 12. \n",
    "\n",
    "Let the $Fibonacci-2$ numbers $g_n$ be defined as follows:\n",
    "\n",
    "$g_1=2,\\:g_2=2$ and $g_{n+2}=g_{n+1}g_n$ for all $n\\ge1$ . \n"
   ]
  },
  {
   "cell_type": "markdown",
   "metadata": {},
   "source": [
    "(a) calculate the first five \"Fibonnaci-2\" numbers. \n",
    "\n",
    "Solution:\n",
    "\n",
    "$g_1 = 2$\n",
    "\n",
    "$g_2 = 2$\n",
    "\n",
    "$g_3 = g_{2}g_1 = 4$\n",
    "\n",
    "$g_4 = g_{3}g_2 = 8$\n",
    "\n",
    "$g_5 = g_{4}g_3 = 32$"
   ]
  },
  {
   "cell_type": "markdown",
   "metadata": {},
   "source": [
    "(b) Show that for all $n \\in \\mathbb{N}$,  $g_n = 2^{f_n}$\n",
    "\n",
    "Solution:\n",
    "\n",
    "base case: \n",
    "\n",
    "$g_1 = 2 = 2^1 = 2^{f_1}$ \n",
    "\n",
    "$g_2 = 2 = 2^1 = 2^{f_2}$"
   ]
  },
  {
   "cell_type": "markdown",
   "metadata": {},
   "source": [
    "Assume $m > 2$ and $g_m = 2^{f_m}$ for all $m \\in \\mathbb{N}$\n",
    "\n",
    "Then \n",
    "\n",
    "$g_{m+2} = g_{m+1} g_m = 2^{f_{m+1}} \\cdot 2^{f_m} = 2^{f_{m+2}} $\n",
    "\n",
    "So by PCI, the result is true for m+2. \n",
    "\n",
    "So, by PCI the resul is also trun for n, \n",
    "\n",
    "Therefore it is true $g_n =  2^{f_n}$ for all $n \\in \\mathbb{N}$"
   ]
  },
  {
   "cell_type": "code",
   "execution_count": null,
   "metadata": {},
   "outputs": [],
   "source": []
  }
 ],
 "metadata": {
  "kernelspec": {
   "display_name": "R",
   "language": "R",
   "name": "ir"
  },
  "language_info": {
   "codemirror_mode": "r",
   "file_extension": ".r",
   "mimetype": "text/x-r-source",
   "name": "R",
   "pygments_lexer": "r",
   "version": "3.6.1"
  }
 },
 "nbformat": 4,
 "nbformat_minor": 2
}
