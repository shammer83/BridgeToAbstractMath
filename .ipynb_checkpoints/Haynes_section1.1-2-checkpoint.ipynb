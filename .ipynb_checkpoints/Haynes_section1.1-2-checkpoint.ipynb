{
 "cells": [
  {
   "cell_type": "markdown",
   "metadata": {},
   "source": [
    "Derek Haynes\n",
    "Bridge to Abstract Math \n",
    "HW 1. "
   ]
  },
  {
   "cell_type": "markdown",
   "metadata": {},
   "source": [
    "## Section 1.1\n",
    "\n",
    "### 3. \n",
    "\n",
    "Make a truth table for each of the following propositional forms:\n",
    "\n",
    "(h) $\\sim P \\wedge \\sim ~Q$"
   ]
  },
  {
   "cell_type": "markdown",
   "metadata": {},
   "source": [
    "Solution: \n",
    "\n",
    "$\\begin{array}{|c c|c c|c|}\n",
    "p&q&\\sim p& \\sim q&\\sim p \\land \\sim q\\\\\n",
    "\\hline\n",
    "T&T&F&F&F\\\\\n",
    "T&F&F&T&F\\\\\n",
    "F&T&T&F&F\\\\\n",
    "F&F&T&T&T\\\\\n",
    "\\end{array}$\n",
    "\n"
   ]
  },
  {
   "cell_type": "markdown",
   "metadata": {},
   "source": [
    "(k) $P \\land P$"
   ]
  },
  {
   "cell_type": "markdown",
   "metadata": {},
   "source": [
    "Solution:\n",
    "\n",
    "$\\begin{array}{|c c|c c|}\n",
    "p&p&p\\land p\\\\\n",
    "\\hline\n",
    "T&T&T\\\\\n",
    "F&F&F\\\\\n",
    "\\end{array}$"
   ]
  },
  {
   "cell_type": "markdown",
   "metadata": {},
   "source": [
    "### 6.\n",
    " \n",
    "Which pair of propositional forms are equivalent?\n",
    "\n",
    "(a) $\\sim (P \\land Q) , \\sim P \\land \\sim Q$"
   ]
  },
  {
   "cell_type": "markdown",
   "metadata": {},
   "source": [
    "Solution: \n",
    "\n",
    "$\\begin{array}{|c c|c c|c c|}\n",
    "p&q&\\sim p& \\sim q&\\sim (p \\land q)\\\\\n",
    "\\hline\n",
    "T&T&F&F&F\\\\\n",
    "T&F&F&T&T\\\\\n",
    "F&T&T&F&T\\\\\n",
    "F&F&T&T&T\\\\\n",
    "\\end{array}$\n",
    "\n",
    "$\\begin{array}{|c c|c c|c c|}\n",
    "p&q&\\sim p& \\sim q&\\sim p \\land \\sim q\\\\\n",
    "\\hline\n",
    "T&T&F&F&F\\\\\n",
    "T&F&F&T&F\\\\\n",
    "F&T&T&F&F\\\\\n",
    "F&F&T&T&T\\\\\n",
    "\\end{array}$\n",
    "\n",
    "From the truth tables Rows 2 and 3 are not the same (this is an example of de morgan's law)"
   ]
  },
  {
   "cell_type": "markdown",
   "metadata": {},
   "source": [
    "### 11. \n",
    "\n",
    "Give a use denial of each statement. Assume that each variable is some fixed object so that each statement is a proposition. \n",
    "\n",
    "(b) Cleveland will win the first game or the second game. \n",
    "\n",
    "P = Cleveland will win the first game\n",
    "\n",
    "Q = Cleveland will win the second game\n",
    "\n",
    "so this statement is $P \\lor Q$\n",
    "\n",
    "The denial would be cleveland did will not win the first or second game \n",
    "\n",
    "$\\sim (P\\lor Q)$"
   ]
  },
  {
   "cell_type": "markdown",
   "metadata": {},
   "source": [
    "### 12. \n",
    "\n",
    "Restore parenthesis to these abbreviated propositional form \n",
    "\n",
    "(b) $Q \\land \\sim S  \\lor \\sim(\\sim P \\land Q)$"
   ]
  },
  {
   "cell_type": "markdown",
   "metadata": {},
   "source": [
    "Solution: \n",
    "\n",
    "step 1. $Q \\land (\\sim S) \\lor \\sim ((\\sim P) \\land Q) $\n",
    "\n",
    "step 2.  $Q \\land (\\sim S) \\lor (\\sim ((\\sim P) \\land Q))$\n",
    "\n",
    "step 3. $(Q \\land (\\sim S)) \\lor ( \\sim ((\\sim P) \\land Q))$"
   ]
  },
  {
   "cell_type": "markdown",
   "metadata": {},
   "source": [
    "## Section 1.2 \n",
    "\n",
    "### 1.\n",
    "\n",
    "(b) If the moon is made of chese then 8 is an irrational number\n",
    "\n",
    "The Antecedent is \"The moon is made of cheese\" and the Consequent is \"8 is an irrational number\" "
   ]
  },
  {
   "cell_type": "markdown",
   "metadata": {},
   "source": [
    "### 5. \n",
    "\n",
    "Which of the following conditional sentence are true? Give reason.\n",
    "\n",
    "(f) If Euclid's birthday was April 2, then rectangles have four sides. \n",
    "\n"
   ]
  },
  {
   "cell_type": "markdown",
   "metadata": {},
   "source": [
    "$\\begin{array}{|c c|c c |}\n",
    "p&q&p \\Rightarrow q\\\\\n",
    "\\hline\n",
    "T&T&T\\\\\n",
    "T&F&F\\\\\n",
    "F&T&T\\\\\n",
    "F&F&T\\\\\n",
    "\\end{array}$\n",
    "\n",
    "In line 3 the consequent is true... therefore the expression is true\n"
   ]
  },
  {
   "cell_type": "markdown",
   "metadata": {},
   "source": [
    "### 6. \n",
    "\n",
    "Which of the following are true? \n",
    "\n",
    "(f) $\\sqrt{10}+\\sqrt{13}<\\sqrt{11}+\\sqrt{12}  \\iff \\sqrt{13}-\\sqrt{12}<\\sqrt{11}-\\sqrt{10}$\n",
    "\n"
   ]
  },
  {
   "cell_type": "markdown",
   "metadata": {},
   "source": [
    "Solution: \n",
    "\n",
    "$\\begin{array}{|c c|c c |}\n",
    "p&q&p \\iff q\\\\\n",
    "\\hline\n",
    "T&T&T\\\\\n",
    "\\end{array}$\n",
    "\n",
    "Since the statements P and Q are true the biconditional statement is also true. \n"
   ]
  },
  {
   "cell_type": "markdown",
   "metadata": {},
   "source": [
    "(g)  $x^2\\ge0\\:if\\:and\\:only\\:if\\:x\\ge0$ "
   ]
  },
  {
   "cell_type": "markdown",
   "metadata": {},
   "source": [
    "$\\begin{array}{|c c|c c |}\n",
    "p&q&p \\iff q\\\\\n",
    "\\hline\n",
    "T&F&F\\\\\n",
    "\\end{array}$\n",
    "\n",
    "The biconditional statement can be False - the first proposition can have x less that 0 and the statement would be True , while the second propsition can be false, leaving the bicondtional statement false. "
   ]
  },
  {
   "cell_type": "markdown",
   "metadata": {},
   "source": [
    "### 8. \n",
    "\n",
    "Prove Theorem 1.2.2 by constructing truth tables for each of the following equivalence:\n",
    "\n",
    "(d) $\\sim\\left(P\\wedge Q\\right) \\:and\\: P \\Rightarrow \\sim Q$"
   ]
  },
  {
   "cell_type": "markdown",
   "metadata": {},
   "source": [
    "Solution: \n",
    "\n",
    "$\\begin{array}{|c c|c|c|}\n",
    "p&q& p\\wedge q& \\sim(p\\wedge q)\\\\\n",
    "\\hline\n",
    "T&T&T&F\\\\\n",
    "T&F&F&T\\\\\n",
    "F&T&F&T\\\\\n",
    "F&F&F&T\\\\\n",
    "\\end{array}$\n",
    "\n",
    "$\\begin{array}{|c c|c|c|}\n",
    "p&q& \\sim q& p \\Rightarrow \\sim q\\\\\n",
    "\\hline\n",
    "T&T&F&F\\\\\n",
    "T&F&T&T\\\\\n",
    "F&T&F&T\\\\\n",
    "F&F&T&T\\\\\n",
    "\\end{array}$\n",
    "\n"
   ]
  },
  {
   "cell_type": "markdown",
   "metadata": {},
   "source": [
    "The fourth columns are identical and prove that the statements are equivalent. "
   ]
  },
  {
   "cell_type": "markdown",
   "metadata": {},
   "source": [
    "### 14.\n",
    "\n",
    "Give, if possible, an example of a false conditional sentence for which\n",
    "\n",
    "(b) the converse is false\n",
    "\n",
    "Solution: \n",
    "\n",
    "If it snows greater than 10 inches tonight, school will close tomorrow\n",
    "\n",
    "`The false converse`\n",
    "\n",
    "If school closes tomorrow,  it was because it snowed greater than 10 inches. \n",
    "\n",
    "\n",
    "\n"
   ]
  },
  {
   "cell_type": "markdown",
   "metadata": {},
   "source": [
    "(d) the contrapositive is true.\n",
    "\n",
    "Solution: \n",
    "\n",
    "If it rains greater than 2 inchese, they will cancel the game today. \n",
    "\n",
    "`The true contrapositive`\n",
    "\n",
    "If they don't cancel the game today, it didnt rain greater than 2 inches. "
   ]
  },
  {
   "cell_type": "code",
   "execution_count": null,
   "metadata": {},
   "outputs": [],
   "source": []
  }
 ],
 "metadata": {
  "kernelspec": {
   "display_name": "R",
   "language": "R",
   "name": "ir"
  },
  "language_info": {
   "codemirror_mode": "r",
   "file_extension": ".r",
   "mimetype": "text/x-r-source",
   "name": "R",
   "pygments_lexer": "r",
   "version": "3.6.1"
  }
 },
 "nbformat": 4,
 "nbformat_minor": 2
}
