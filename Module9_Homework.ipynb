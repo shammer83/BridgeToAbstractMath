{
 "cells": [
  {
   "cell_type": "markdown",
   "metadata": {},
   "source": [
    "$Derek\\:Haynes\\\\\n",
    "Bridge\\:to\\:Abstract\\:Math\\\\\n",
    "Module\\:9$"
   ]
  },
  {
   "cell_type": "markdown",
   "metadata": {},
   "source": [
    "## Section 3.3 Partitions"
   ]
  },
  {
   "cell_type": "markdown",
   "metadata": {},
   "source": [
    "#### 2. \n",
    "\n",
    "For the given set $A$, determine whether $\\mathscr{P}$ is a partion of $A$. \n",
    "\n",
    "(c) $A = \\{1,2,3,4,5,6,7\\}$, $\\mathscr{P} = \\{\n",
    "\\{1,3\\}, \\{5,6\\}, \\{2,\\}, \\{7\\}\\}$\n",
    "\n",
    "Solution: \n",
    "\n",
    "$\\mathscr{P}$ is a partition of A because it satisfies all three conditions of the defintion of a partition"
   ]
  },
  {
   "cell_type": "markdown",
   "metadata": {},
   "source": [
    "#### 7. \n",
    "\n",
    "(c) Describe the equivalence relation on $\\mathbb{R}$ with the partition $\\{(-\\infty,0), \\{0\\}, (0, \\infty)\\}$"
   ]
  },
  {
   "cell_type": "markdown",
   "metadata": {},
   "source": [
    "Solution: \n",
    "\n",
    "The relation is \n",
    "\n",
    "reflexive because $xRx$\n",
    "\n",
    "symmetric because $xRy$ and $yRx$\n",
    "\n",
    "and it is transitive $x,y,z \\in \\mathbb{R}$ where $xRy$ and $yRz$ therefore $xRz$. "
   ]
  },
  {
   "cell_type": "markdown",
   "metadata": {},
   "source": [
    "#### 9.\n",
    "\n",
    "List the order pairs in the equivalence relation on $A = \\{1,2,3,4,5\\}$ associated with the following partitions: \n",
    "\n",
    "(b) $\\{\\{1\\}, \\{2\\}, \\{3, 4\\}, \\{5\\}\\}$"
   ]
  },
  {
   "cell_type": "markdown",
   "metadata": {},
   "source": [
    "Solution: \n",
    "\n",
    "$\\{(1,1), (2,2), (3,4), (4,3), (4,4), (5,5)\\}$"
   ]
  },
  {
   "cell_type": "markdown",
   "metadata": {},
   "source": [
    "#### 10. \n",
    "(b) (Completing a part of the proof of Theorem 3.3.2): Suppose $ \\mathscr{P}$ is a partition of $A$ and suppose that $xQy$  if there exists $ C\\in\\mathscr{P}$ such that $x\\in$ and $ y ∈ C$. Prove that $Q$ is reflexive on $A$\n",
    "\n"
   ]
  },
  {
   "cell_type": "markdown",
   "metadata": {},
   "source": [
    "Solution:\n",
    "\n",
    "Let $x \\in A$.\n",
    "\n",
    "As $\\mathscr{P}$ is a partition of $A$\n",
    "\n",
    "then $\\cup_{C \\in \\mathscr{P}}C = A$ \n",
    "\n",
    "therefore $x \\in \\cup_{C \\in \\mathscr{P}}C$ because $x \\in A$. \n",
    "\n",
    "So there exists a $C \\in P$ such that $x \\in C$ \n",
    "\n",
    "therefore $x \\in C$ and $x \\in C$, \n",
    "\n",
    "showing that $xQx$ \n",
    "\n",
    "and Q is reflexive"
   ]
  },
  {
   "cell_type": "markdown",
   "metadata": {},
   "source": [
    "## 4.1 Functions as Relations"
   ]
  },
  {
   "cell_type": "markdown",
   "metadata": {},
   "source": [
    "#### 6(d)\n",
    "\n",
    "Let R = $\\{(x,y) = \\mathbb{N} \\times \\mathbb{N}: 2x^2 -y = 1\\}$ Prove that $R$ is a function with domain $\\mathbb{N}$"
   ]
  },
  {
   "cell_type": "markdown",
   "metadata": {},
   "source": [
    "Solution: \n",
    "\n",
    "Suppose that x is a natural number.  \n",
    "\n",
    "Then $2x^2 -1$ is an integer \n",
    "\n",
    "and $(x, 2x^2 -1) \\in R$\n",
    "\n",
    "so $R$ is a relation with domain $\\mathbb{N}$\n",
    "\n",
    "ii) \n",
    "\n",
    "Suppose that $(x,y)$ and $(x,z)$ $\\in R$\n",
    "\n",
    "Then $2x^2 - 1 = y $ and $2x^2 - 1 = z$ \n",
    "\n",
    "Hence, $y = z$ \n",
    "\n",
    "From i) and ii) we conclude that x is in the domain set and y in the codomain such that $(x,y) \\in R$.  \n",
    "\n",
    "Therefore R defines a function with domain $\\mathbb{N}$"
   ]
  },
  {
   "cell_type": "markdown",
   "metadata": {},
   "source": [
    "#### 7. \n",
    "\n",
    "Complete the proof of Theorem 4.1.1. That is, prove that if (i) $Dom(f)=Dom(g)$ and (ii) for all $x \\in Dom(f),  f(x) = g(x), then f = g$.  \n",
    "\n"
   ]
  },
  {
   "cell_type": "markdown",
   "metadata": {},
   "source": [
    "Solution: \n",
    "\n",
    "Suppose that $ x \\in Dom(f)$. \n",
    "\n",
    "Then $(x,y) \\in f$ for some y, and because f = g. \n",
    "\n",
    "we have $(x,y) \\in g$.  \n",
    "\n",
    "Therefore $x \\in Dom(g)$.  \n",
    "\n",
    "Hence \n",
    "\n",
    "$Dom(f) \\subseteq Dom(g)$\n",
    "\n",
    "Similarly,  $x \\in Dom(g)$ \n",
    "\n",
    "Then $(x,y) \\in g$ for some y,  because g = f.  \n",
    "\n",
    "then we have $(x,y) \\in f$\n",
    "\n",
    "Therefore $x \\in Dom(f)$\n",
    "\n",
    "This shows that $Dom(g) \\subseteq Dom(f)$\n",
    "\n",
    "Proving condition (i) of 4.1.1"
   ]
  },
  {
   "cell_type": "markdown",
   "metadata": {},
   "source": [
    "Addtionally, since $f(x) = g(x),  for all $x \\in Dom(f)$\n",
    "\n",
    "therefore $g(x) = f(x) = y$ \n",
    "\n",
    "hence $(x,y) \\in g$\n",
    "\n",
    "and for all x, $g(x) = f(x)$ so, $f = g$\n",
    "\n",
    "Hence (ii) is proved. "
   ]
  },
  {
   "cell_type": "markdown",
   "metadata": {},
   "source": [
    "#### 9(d).\n",
    "\n",
    "Let the Universe be $\\mathbb{R}$ and let A = $[1, 3)$\n",
    "\n",
    "Find $X_A(2) - X_A(0.2)$"
   ]
  },
  {
   "cell_type": "markdown",
   "metadata": {},
   "source": [
    "Solution: \n",
    "\n",
    "$A = [1, 3)$ is closed on 1 and open at 3$\n",
    "\n",
    "The characteristic funtion, \n",
    "\n",
    "$X_A(x) = \\begin{cases} \n",
    "1 & \\text{if x $\\in A$}\\\\\n",
    "0 & \\text{if x $\\notin A$}\\end{cases}$ \n",
    "\n",
    "Then \n",
    "\n",
    "$X_A(1) = 1$ and $X_A(0.2) = 0$\n",
    "\n",
    "then $X_A(1) - X_A(0) = 1 - 0 = 1$"
   ]
  },
  {
   "cell_type": "markdown",
   "metadata": {},
   "source": [
    "#### 10(d)\n",
    "\n",
    "Let U be the universe. Suppose that $A \\subseteq U$ with $A \\neq \\emptyset$, and $A \\neq U$.  Let $X_A$ be the characteristic function of A.  \n",
    "\n",
    "Find:\n",
    "\n",
    "$\\{x \\in U: X_A(x) \\leq 1\\}$"
   ]
  },
  {
   "cell_type": "markdown",
   "metadata": {},
   "source": [
    "Solution: \n",
    "\n",
    "Suppose $\\{x \\in U: X_A(x) \\leq 1\\}$\n",
    "\n",
    "Then $x \\in U$\n",
    "\n",
    "and as $X_A(x) \\leq 1$\n",
    "\n",
    "Therefore, \n",
    "\n",
    "$x \\in A, X_A(x) = 1$\n",
    "\n",
    "$x \\in A, X_A(x) = 0$ \n",
    "\n",
    "Furthermore\n",
    "\n",
    "$\\{x \\in U: X_A(x) \\leq 1\\}$ = $\\{x \\in U : x \\in A\\} \\cup \\{x \\in U: x \\notin A\\}$ \n",
    "\n",
    "= $A \\cup (U - A)$  `Theorem 2.2.2`\n",
    "\n",
    "= $U$\n",
    "\n",
    "Hence, \n",
    "\n",
    "$\\{x \\in U: X_A(x) \\leq 1\\} = U$"
   ]
  },
  {
   "cell_type": "markdown",
   "metadata": {},
   "source": [
    "#### 13 (d)\n",
    "\n",
    "For the canonical map $f : \\mathbb{Z} \\rightarrow \\mathbb{Z_6}$ find all pre-images of $\\bar{1}$"
   ]
  },
  {
   "cell_type": "markdown",
   "metadata": {},
   "source": [
    "f is the canonical map for the relation on congruence modulo 6 on $\\mathbb{Z} , the preimages of $\\bar 1$\n",
    "\n",
    "are any x such that $f(x) = \\bar{1} = \\{6k + 1\\}$ where k is an integer\n",
    "\n",
    "Therefore, the pre-mianges of $\\bar{1}$ are ..., -17,-11,-5, 1, 7, 13,19, ..."
   ]
  },
  {
   "cell_type": "code",
   "execution_count": null,
   "metadata": {},
   "outputs": [],
   "source": []
  }
 ],
 "metadata": {
  "kernelspec": {
   "display_name": "R",
   "language": "R",
   "name": "ir"
  },
  "language_info": {
   "codemirror_mode": "r",
   "file_extension": ".r",
   "mimetype": "text/x-r-source",
   "name": "R",
   "pygments_lexer": "r",
   "version": "3.6.1"
  }
 },
 "nbformat": 4,
 "nbformat_minor": 2
}
