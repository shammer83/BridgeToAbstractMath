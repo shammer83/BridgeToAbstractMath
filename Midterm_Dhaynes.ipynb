{
 "cells": [
  {
   "cell_type": "markdown",
   "metadata": {},
   "source": [
    "$Derek\\:Haynes\\\\\n",
    "Bridge\\:to\\:Abstract\\:Math\\\\\n",
    "Midterm\\:Part\\:2$"
   ]
  },
  {
   "cell_type": "markdown",
   "metadata": {},
   "source": [
    "### Problem 1 \n",
    "\n",
    "Use a truth table to determine whether $(\\sim P) \\wedge Q$ and $Q \\Rightarrow \\sim P$ are equivalent or not"
   ]
  },
  {
   "cell_type": "markdown",
   "metadata": {},
   "source": [
    "Solution: \n",
    "\n",
    "Solution: \n",
    "\n",
    "$\\begin{array}{|c c|c|cc|}\n",
    "P&Q&\\sim P& \\sim P\\land Q \\\\\n",
    "\\hline\n",
    "T&T&F&F\\\\\n",
    "T&F&F&F\\\\\n",
    "F&T&T&T\\\\\n",
    "F&F&T&F\\\\\n",
    "\\end{array}$\n",
    "\n",
    "$\\begin{array}{|c c|c|c c|}\n",
    "P&Q&\\sim P& Q \\Rightarrow \\sim P \\\\\n",
    "\\hline\n",
    "T&T&F&F\\\\\n",
    "T&F&F&T\\\\\n",
    "F&T&T&T\\\\\n",
    "F&F&T&T\\\\\n",
    "\\end{array}$\n",
    "\n",
    "The 4th column in both tables are not equal, therefore the statements are `not` equivalent"
   ]
  },
  {
   "cell_type": "markdown",
   "metadata": {},
   "source": [
    "### Problem 2 \n",
    "\n",
    "Let $a, b, \\:and\\: c$ be integers,  Prove that if $a$ divides $b-1$ and $c+1$, then $a$ divides $bc+1$. "
   ]
  },
  {
   "cell_type": "markdown",
   "metadata": {},
   "source": [
    "Solution\n",
    "\n",
    "suppose that a divides $b-1$ and $c+1$ \n",
    "\n",
    "then, \n",
    "\n",
    "$b-1 = ak$ and $c+1 = al$  (Where $k4 and $l$ are integers) \n",
    "\n",
    "then.\n",
    "\n",
    "$b = ak+1$ and $c = al-1$ \n",
    "\n",
    "and $bc +1 = (ak+1)(al-1) + 1$ \n",
    "\n",
    "After some algebraic simplification... \n",
    "\n",
    "$(ak+1)(al-1) + 1 = a(akl - k + l)$. (Where $akl - k + l$ is an integer)\n",
    "\n",
    "furthermore $a(akl - k + l)$ is divisible by $a$ \n",
    "\n",
    "and since $bc+1 = a(akl - k + l)$\n",
    "\n",
    "proves $bc+1$ is divisible by $a$\n",
    "\n",
    "\n"
   ]
  },
  {
   "cell_type": "markdown",
   "metadata": {},
   "source": [
    "### Problem 3 \n",
    "\n",
    "For all sets $X\\:and\\: Y$  in a universe $U$, prove that $\\left(X\\cap Y\\right)^c=X^c\\cup Y^c$"
   ]
  },
  {
   "cell_type": "markdown",
   "metadata": {},
   "source": [
    "Solution: \n",
    "\n",
    "i) Suppose $x \\in (X \\cap Y)^c$  then $x \\notin X\\cap Y$\n",
    "\n",
    "furthermore $x \\notin X$ or $x \\notin Y$\n",
    "\n",
    "then $x \\in X^c$ or $x \\in Y^c$\n",
    "\n",
    "then $x \\in X^c \\cup Y^c$ \n",
    "\n",
    "therefore if $x \\in (X \\cap Y)^c $ then $ x \\in X^c \\cup B^c$"
   ]
  },
  {
   "cell_type": "markdown",
   "metadata": {},
   "source": [
    "ii) Suppose $x \\in X^c \\cup Y^c$ then $ x \\in X^c$ or $x \\in Y^c$\n",
    "\n",
    "then $x \\notin X$ or $x \\notin Y$\n",
    "\n",
    "furthermore $x \\notin X \\cap Y$\n",
    "\n",
    "then $x \\in (X \\cap Y)^c$\n",
    "\n",
    "therefore if $x \\in X^c \\cup Y^c$ then $ x \\in (X \\cap Y)^c$\n",
    "\n",
    "proving\n",
    "\n",
    "$(X\\cap Y)^c = X^c \\cup Y^c$"
   ]
  },
  {
   "cell_type": "markdown",
   "metadata": {},
   "source": [
    "### Problem 4\n",
    "\n",
    "Let $P,\\:Q,\\:R\\:and\\:S$ be sets. Prove that $\\left(P\\times Q\\right)\\cap\\left(R\\times S\\right)=\\left(P\\cap R\\right)\\times\\left(Q\\cap S\\right).$ "
   ]
  },
  {
   "cell_type": "markdown",
   "metadata": {},
   "source": [
    "Solution: \n",
    "\n",
    "Suppose $\\left(P\\times Q\\right)\\cap\\left(R\\times S\\right)=\\left(P\\cap R\\right)\\times\\left(Q\\cap S\\right)$\n",
    "\n",
    "then $(x,y) \\in (P \\times Q) \\cap (R \\times S)$ iff $(x, y) \\in (P \\times Q)$ and $(x,y) \\in (R \\times S)$\n",
    "\n",
    "iff $( x  \\in P \\:and\\: y \\in Q)$ and ($x \\in R \\:and \\:y \\in S)$\n",
    "\n",
    "iff $x \\in P \\cap R$ and $ y \\in Q \\cap S$\n",
    "\n",
    "iff $(x,y) \\in (P\\cap R) \\times (Q \\cap S)$ \n",
    "\n",
    "Proving $\\left(P\\times Q\\right)\\cap\\left(R\\times S\\right)=\\left(P\\cap R\\right)\\times\\left(Q\\cap S\\right)$ "
   ]
  },
  {
   "cell_type": "markdown",
   "metadata": {},
   "source": [
    "### Problem 5\n",
    "\n",
    "Let $\\mathscr{A} = \\{A_{i} :i \\in \\mathbb{N}\\}$ be an indexed family of sets with the property that $A_1 \\supseteq A_2 \\supseteq A_3,.... \\supseteq A_i \\supseteq ....$\n",
    "\n",
    "Find $\\cap_{i = 1}^{20}A_i$.   Justify your answer giving a rigorous proof. \n"
   ]
  },
  {
   "cell_type": "markdown",
   "metadata": {},
   "source": [
    "Suppose $\\mathscr{A} = \\{A_{i} :i \\in \\mathbb{N}\\}$\n",
    "\n",
    "Given the property that \n",
    "\n",
    "$A_{i} \\supseteq A_{i+1}$   meanst that $Ai$ is a super set of $A_{i+1}$\n",
    "\n",
    "That is $A_i$ contains $A{i+1}$ and some more values ...\n",
    "\n",
    "Furthermore,  lets suppose that \n",
    "\n",
    "$A_1 = \\{A_2,  B_1\\}$ (where $B_i$ is a a random set} \n",
    "\n",
    "$A_2 = \\{A_3, B_2\\}$\n",
    "\n",
    "$A_3 = \\{A_4, B_3\\}$\n",
    "\n",
    "$A_4 = \\{A_5, B_4\\}$\n",
    "\n",
    "$\\vdots$\n",
    "\n",
    "$A_{20} = \\{A_{21}, B_{20}\\}$\n",
    "\n",
    "Then \n",
    "\n",
    "$A_1 \\cap A_2 = A_2$ as $(A_1 \\supseteq A_2)$\n",
    "\n",
    "$A_2 \\cap A_3= A_2$ as $(A_2 \\supseteq A_3)$\n",
    "\n",
    "$A_1 \\cap A_3 = A_3$ as $(A_1 \\supseteq A_2 \\supseteq A_3)$\n",
    "\n",
    "furthermore \n",
    "\n",
    "$A_1 \\cap A_2 \\cap A_3 \\cap A_4 \\cap  .... A_{20} = A_{20}$ \n",
    "\n",
    "Thus\n",
    "\n",
    "$\\cap_{i = 1}^{20}A_i = A_{20}$"
   ]
  },
  {
   "cell_type": "markdown",
   "metadata": {},
   "source": [
    "### Problem 6"
   ]
  },
  {
   "cell_type": "markdown",
   "metadata": {},
   "source": [
    "Use the Principle of Mathematical Induction (PMI) to prove that $ 2^{2n}-1$ is divisible by $3$  for all $n\\in \\mathbb{N}$ ."
   ]
  },
  {
   "cell_type": "markdown",
   "metadata": {},
   "source": [
    "Solution:\n",
    "\n",
    "i) Base case for $n = 1$\n",
    "\n",
    "$2^{2(1)} - 1 = 3$\n",
    "\n",
    "3 is divisible by 3\n",
    "\n",
    "Thus,  the result is true for n = 1. "
   ]
  },
  {
   "cell_type": "markdown",
   "metadata": {},
   "source": [
    "ii) Suppose that the result is true for some variable k (where n = k) and is divisible by 3.  Then we want to prove that it is also true when n = k+1.  \n",
    "\n",
    "Assume $2^{2k}-1 = 3n$,  $n \\in \\mathbb{N}$\n",
    "\n",
    "For the Left Hand Side\n",
    "\n",
    "$2^{2(k+1)} - 1 = 2^{2k+2} - 1$\n",
    "\n",
    "$ = 2^2k \\cdot 2^2 -1 $\n",
    "\n",
    "$= 2^2k \\cdot 4 -1 $\n",
    "\n",
    "$ = 3 \\cdot 2^{2k} + (2^{2k} -1)$\n",
    "\n",
    "$ = 3 \\cdot 2^{2k} + {3n}$\n",
    "\n",
    "$ = 3 (2^{2k} + n )$\n",
    "\n",
    "$ = 3p$ where $p = (2^{2k} +n)$ and $p \\in \\mathbb{N}$\n",
    "\n",
    "therfore,  for n = k+1 the reulst is true \n",
    "\n",
    "and furthermore,  by the PMI,  for all $n$ in $\\mathbb{N},  2^{2n} -1$ is divisble by 3. \n",
    "\n"
   ]
  },
  {
   "cell_type": "code",
   "execution_count": null,
   "metadata": {},
   "outputs": [],
   "source": []
  }
 ],
 "metadata": {
  "kernelspec": {
   "display_name": "R",
   "language": "R",
   "name": "ir"
  },
  "language_info": {
   "codemirror_mode": "r",
   "file_extension": ".r",
   "mimetype": "text/x-r-source",
   "name": "R",
   "pygments_lexer": "r",
   "version": "3.6.1"
  }
 },
 "nbformat": 4,
 "nbformat_minor": 2
}
