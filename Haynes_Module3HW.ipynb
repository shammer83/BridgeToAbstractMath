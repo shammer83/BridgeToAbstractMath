{
 "cells": [
  {
   "cell_type": "markdown",
   "metadata": {},
   "source": [
    "$Derek\\:Haynes \\\\\n",
    "Module\\:3\\\\\n",
    "Bridge\\:to\\:Abstract\\:Math$"
   ]
  },
  {
   "cell_type": "markdown",
   "metadata": {},
   "source": [
    " ### Section 1.5 \n",
    " \n",
    " #### 3.\n",
    " \n",
    " Let $x,\\:y\\:and\\:z$ be integers. Write a proof by contraposition to show that \n",
    " \n",
    " (d) if $xy$ is even, then either $x\\:or\\:y$ is even. "
   ]
  },
  {
   "cell_type": "markdown",
   "metadata": {},
   "source": [
    "Solution: `Proof by contraposition`\n",
    "\n",
    "Assume neither $x\\:or\\:y$ are even\n",
    "\n",
    "then x is an odd integer $x = 2k+1$\n",
    "\n",
    "and y is an odd integer $y = 2l+1$\n",
    "\n",
    "furthermore $xy = (2k+1)(2l+1) = 4kl+2k+2l+1$ is an odd integer\n",
    "\n",
    "Therefore xy is even if x or y is even. \n"
   ]
  },
  {
   "attachments": {},
   "cell_type": "markdown",
   "metadata": {},
   "source": [
    "#### 5.\n",
    "\n",
    "A circle has center $(2,4)$.\n",
    "\n",
    "(a) Prove that $(-1,5)\\:and\\:(5,1)$ are not both on the same circle. "
   ]
  },
  {
   "cell_type": "markdown",
   "metadata": {},
   "source": [
    "Solution: \n",
    "\n",
    "Assume that $(-1,5)\\:and\\:(5,1)$ are on the same circle: \n",
    "\n",
    "Then the radius for point $(-1,5)$ on a circle centered at $(2,4)$  would be:\n",
    "\n",
    "$r_{1} = \\sqrt{(-1 -2)^2+(5-4)^2} = \\sqrt{10}$\n",
    "\n",
    "and the radius for a point $(5,1)$ on a circle centered at $(2,4)$ would be: \n",
    "\n",
    "$r_{2} = \\sqrt{(5 -2)^2+(1-4)^2} = \\sqrt{18}$\n",
    "\n",
    "$r_{1} \\neq r_{2}$ and therefore $(-1,5)\\:and\\:(5,1)$ are not on the same circle."
   ]
  },
  {
   "cell_type": "markdown",
   "metadata": {},
   "source": [
    "#### 6.\n",
    "\n",
    "Suppose $a\\:and\\:b$ are positive integers. Write a proof by contradiction to show that \n",
    "\n",
    "(c) if $a$ is odd, then $a+1$ is even."
   ]
  },
  {
   "cell_type": "markdown",
   "metadata": {},
   "source": [
    "Solution: `proof by contradiction`\n",
    "\n",
    "a is odd\n",
    "\n",
    "and suppose that a+1 is odd as well,\n",
    "\n",
    "then there exists and integer $k$ such that\n",
    "\n",
    "$a+1 = 2k+1$ (definition of an odd integer)\n",
    "\n",
    "then $a = 2k$ is even\n",
    "\n",
    "this contradicts that a is odd; therefore a+1 is is even."
   ]
  },
  {
   "cell_type": "markdown",
   "metadata": {},
   "source": [
    "#### 7.\n",
    "\n",
    " Suppose $a,\\:b,\\:c\\:and\\:d$ are positive integers. Prove the biconditional statement: \n",
    " \n",
    "(a) $ac$ divides $bc$ if and only if $a$  divides $b$. "
   ]
  },
  {
   "cell_type": "markdown",
   "metadata": {},
   "source": [
    "Solution: \n",
    "\n",
    "Suppose $ac$ divides $bc$ \n",
    "\n",
    "then $bc = ac\\cdot k$ so that $ac$ is a $k$ multiple of $bc$\n",
    "\n",
    "and $b = a\\cdot k$\n",
    "\n",
    "also suppose that a divides b \n",
    "\n",
    "therefore $b = a \\cdot m$ where m is positive integer\n",
    "\n",
    "then $bc = acm$\n",
    "\n",
    "thus $ac$ divides $bc$ and proves the biconditional statement. \n",
    "\n"
   ]
  },
  {
   "cell_type": "markdown",
   "metadata": {},
   "source": [
    "### Section 1.6\n",
    "\n",
    "#### 1.\n",
    "\n",
    "Prove that\n",
    "\n",
    "(b) there exist integers $m$ and $n$  such that $15m+12n=3$ "
   ]
  },
  {
   "cell_type": "markdown",
   "metadata": {},
   "source": [
    "Solution: `proof by construction`\n",
    "\n",
    "If $m =1$ and $n = -1$\n",
    "\n",
    "then $15m + 12n = 15-12 = 3$\n",
    "\n",
    "Therefore 15m+12n = 3 is true when $m\\:and\\:n$  are the integers $1\\:and\\:-1$"
   ]
  },
  {
   "cell_type": "markdown",
   "metadata": {},
   "source": [
    "#### 2. \n",
    "\n",
    "Prove for all integers $a\\:,\\:b\\:and\\:c$\n",
    "\n",
    "(a) if $a$  divides $b-1$ and $a$  divides  $c-1$, then $a$ divides $bc-1$\n"
   ]
  },
  {
   "cell_type": "markdown",
   "metadata": {},
   "source": [
    "Solution: \n",
    "\n",
    "$a$ divides $b-1$ and $a$ divides $c-1$ therefore  \n",
    "\n",
    "$ak = b-1$ and $al = c-1$ (where k and l are arbitrary integers)\n",
    "\n",
    "then ... \n",
    "\n",
    "$ bc = (ak-1)(al-1)$\n",
    "\n",
    "furthermore\n",
    "\n",
    "$ bc - 1 = a^2kl-ak-al +1 - 1 = a^2kl -ak -al = a(akl -k -l) $\n",
    "\n",
    "therefore \n",
    "\n",
    "$a$ divides $bc-1$ "
   ]
  },
  {
   "cell_type": "markdown",
   "metadata": {},
   "source": [
    "#### 4.\n",
    "Provide either a proof or a counter example for each of these statements:\n",
    "\n",
    "(b) $\\left(\\forall\\:x\\right)\\left(\\exists\\:y\\right)\\left(x+y=0\\right)$  (Universe of all reals)"
   ]
  },
  {
   "cell_type": "markdown",
   "metadata": {},
   "source": [
    "Solution: \n",
    "\n",
    "Assume $x+y = 0$ \n",
    "\n",
    "Then $x = -y$ \n",
    "\n",
    "so for all $x$ there is a $y$ that makes $x+y = 0$"
   ]
  },
  {
   "cell_type": "code",
   "execution_count": null,
   "metadata": {},
   "outputs": [],
   "source": []
  }
 ],
 "metadata": {
  "kernelspec": {
   "display_name": "R",
   "language": "R",
   "name": "ir"
  },
  "language_info": {
   "codemirror_mode": "r",
   "file_extension": ".r",
   "mimetype": "text/x-r-source",
   "name": "R",
   "pygments_lexer": "r",
   "version": "3.6.1"
  }
 },
 "nbformat": 4,
 "nbformat_minor": 2
}
