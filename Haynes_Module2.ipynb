{
 "cells": [
  {
   "cell_type": "markdown",
   "metadata": {},
   "source": [
    "$Derek\\:Haynes \\\\\n",
    "Module\\:2\\\\\n",
    "Bridge\\:to\\:Abstract\\:Math$"
   ]
  },
  {
   "cell_type": "markdown",
   "metadata": {},
   "source": [
    "### 1. \n",
    "\n",
    "Translate the following English sentences into symbolic sentences with quantifiers. The universe for each is given in the parentheses. \n",
    "\n",
    "(g) Some people are honest and some people are not honest. \n",
    "\n",
    "Solution: \n",
    "\n",
    "$(\\exists x)P(x)\\land (\\exists x)\\sim P(x)$\n"
   ]
  },
  {
   "cell_type": "markdown",
   "metadata": {},
   "source": [
    "### 7.\n",
    "\n",
    "(a) Complete the following proof of Theorem 1.3.1 (b): \n",
    "\n",
    "If A(x) is an open sentence with variable x, \n",
    "\n",
    "$\\sim\\left(\\exists\\:x\\right)A\\left(x\\right)$ is equivalent to $\\left(\\forall\\:x\\right)\\sim A\\left(x\\right)$"
   ]
  },
  {
   "cell_type": "markdown",
   "metadata": {},
   "source": [
    "We have to show that\n",
    "$\\sim\\left(\\exists\\:x\\right)A\\left(x\\right)$ and $\\left(\\forall\\:x\\right)\\sim A\\left(x\\right)$ have the same truth values\n",
    "\n",
    "Solution:\n",
    "\n",
    "$\\sim\\left(\\exists\\:x\\right)A\\left(x\\right)$ is True\n",
    "\n",
    "iff $\\left(\\exists\\:x\\right)A\\left(x\\right)$ is False\n",
    "\n",
    "iff the truth set for $A(x)$ is empty\n",
    "\n",
    "iff the truth set for $\\sim A(x)$ is the entire universe\n",
    "\n",
    "iff $(\\forall x) \\sim A(x)$ is True in the universe\n",
    "\n",
    "\n",
    "\n",
    "\n",
    "\n",
    "\n"
   ]
  },
  {
   "cell_type": "markdown",
   "metadata": {},
   "source": [
    "### 9. \n",
    "Give an English translation for each.The universe is given in parentheses.\n",
    "\n",
    "(b) $\\left(\\exists\\:!\\:x\\right)\\left(x\\ge0\\:\\wedge\\:x\\le0\\right)\\:\\left(\\mathbb{R}\\right)$ ( ∃ ! x ) "
   ]
  },
  {
   "cell_type": "markdown",
   "metadata": {},
   "source": [
    "Solution: There is a unique x in the universe $\\mathbb{R}$ that is neither negative or positive.  "
   ]
  },
  {
   "cell_type": "markdown",
   "metadata": {},
   "source": [
    "### 10.\n",
    "\n",
    "Which of the following are true in the universe of all real numbers?\n",
    "\n",
    "(f)\n",
    "$\\left(\\exists\\:x\\right)\\left(\\forall\\:y\\right)\\left(x\\le y\\right)$"
   ]
  },
  {
   "cell_type": "markdown",
   "metadata": {},
   "source": [
    "Solution: This is False - a single value in $\\mathbb{R}$ cannot be smaller than all real numbers"
   ]
  },
  {
   "cell_type": "markdown",
   "metadata": {},
   "source": [
    "### 11. \n",
    "\n",
    "Let A(x) be an open sentence with variable x.\n",
    "\n",
    "(b) Show that the converse of 1.3.2 (a) is false. \n",
    "\n",
    "\n",
    "Part (a) states $(\\exists !x)A(x) \\Rightarrow (\\exists x)A(x)$"
   ]
  },
  {
   "cell_type": "markdown",
   "metadata": {},
   "source": [
    "`The converse of a is` $(\\exists x)A(x) \\Rightarrow (\\exists !x)A(x)$\n"
   ]
  },
  {
   "cell_type": "markdown",
   "metadata": {},
   "source": [
    "Solution: \n",
    "\n",
    "If $(\\exists x)A(x)$ is true for some x in the universe \n",
    "\n",
    "This implies that A(x) is true for more than one x in the universe\n",
    "\n",
    "and therefore A(x) is not true for a unique x in the universe \n",
    "\n",
    "Therefore the converse of this theorem is false. "
   ]
  },
  {
   "cell_type": "markdown",
   "metadata": {},
   "source": [
    "### 5. \n",
    "\n",
    "Let $ x,\\:y\\:and\\:z$  be integers. Prove that :\n",
    "\n",
    "(g) if $x\\:and\\:y$ are odd then  $xy$ are odd\n",
    "\n"
   ]
  },
  {
   "cell_type": "markdown",
   "metadata": {},
   "source": [
    "Solution: \n",
    "\n",
    "Suppose x and y are odd. \n",
    "\n",
    "Then $x = 2k +1$ and $y = 2l +1$ for some integers k,l\n",
    "\n",
    "Then xy = (2k+1)(21+1) = 4kl + 2k +2l  = $2(2kl +k +l) + 1$\n",
    "\n",
    "the $2(2kl +k +l)) is an even integer (by definition of even integer) and by adding 1 the even number becomes odd. \n",
    "\n",
    "Thus $xy$ is odd.\n"
   ]
  },
  {
   "cell_type": "markdown",
   "metadata": {},
   "source": [
    "### 6. \n",
    "\n",
    "Let a  and  b  be real numbers. Prove that: \n",
    "\n",
    "c)$\\left|\\frac{a}{b}\\right|=\\frac{\\left|a\\right|}{\\left|b\\right|},\\:b\\ne0$ . "
   ]
  },
  {
   "cell_type": "markdown",
   "metadata": {},
   "source": [
    "Solution: \n",
    "\n",
    "$|\\frac{a}{b}| = |a \\cdot \\frac{a}{b}|$\n",
    "\n",
    "$ = |a||\\frac{1}{b}|$ from the proof in part a\n",
    "\n",
    "$ = \\frac{|a|}{|b|}$"
   ]
  },
  {
   "cell_type": "markdown",
   "metadata": {},
   "source": [
    "### 7. \n",
    "\n",
    "Suppose $ a,\\:b,\\:c\\:and\\:d$ are integers. Prove that \n",
    "\n",
    "(k) if a divides b and c divide d , then ac divides bd.\n"
   ]
  },
  {
   "cell_type": "markdown",
   "metadata": {},
   "source": [
    "Solution: \n",
    "\n",
    "suppose $b = ak$ and $d = cl$ \n",
    "\n",
    "then $bd$ = $(ak)(cl)$ = $(ac)(kl)$\n",
    "\n",
    "then $ac$ is a multiple of $bd$ and by definition of division $ac$ divides bd. "
   ]
  },
  {
   "cell_type": "code",
   "execution_count": null,
   "metadata": {},
   "outputs": [],
   "source": []
  }
 ],
 "metadata": {
  "kernelspec": {
   "display_name": "R",
   "language": "R",
   "name": "ir"
  },
  "language_info": {
   "codemirror_mode": "r",
   "file_extension": ".r",
   "mimetype": "text/x-r-source",
   "name": "R",
   "pygments_lexer": "r",
   "version": "3.6.1"
  }
 },
 "nbformat": 4,
 "nbformat_minor": 2
}
